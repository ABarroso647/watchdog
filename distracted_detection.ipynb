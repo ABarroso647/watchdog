{
 "cells": [
  {
   "cell_type": "code",
   "execution_count": null,
   "metadata": {
    "collapsed": true,
    "pycharm": {
     "name": "#%%\n"
    }
   },
   "outputs": [],
   "source": [
    "import numpy as np\n",
    "import pandas as pd\n",
    "import matplotlib.pyplot as plt\n",
    "\n",
    "import torch\n",
    "from torch import nn, optim\n",
    "from torchvision import transforms"
   ]
  },
  {
   "cell_type": "code",
   "execution_count": null,
   "outputs": [],
   "source": [
    "class Net(nn.Module):\n",
    "    def __init__(self):\n",
    "            super(Net, self).__init__()\n",
    "            self.layer1 = nn.Sequential(\n",
    "                nn.Conv2d(3, 32, kernel_size=3),\n",
    "                nn.ReLU(),\n",
    "                nn.MaxPool2d(2)\n",
    "            )\n",
    "            self.layer2 = nn.Sequential(\n",
    "                nn.Conv2d(32, 64, kernel_size=3),\n",
    "                nn.ReLU(),\n",
    "                nn.MaxPool2d(2)\n",
    "            )\n",
    "            self.layer3 = nn.Sequential(\n",
    "                nn.Conv2d(64, 128, kernel_size=3),\n",
    "                nn.ReLU(),\n",
    "                nn.MaxPool2d(2)\n",
    "            )\n",
    "            self.drop = nn.Dropout()\n",
    "            self.fc1 = nn.Linear(32*52*52, 1024)\n",
    "            self.fc2 = nn.Linear(1024, 256)\n",
    "            self.fc3 = nn.Linear(256, 10)\n",
    "\n",
    "    def forward(self, x):\n",
    "        x = self.layer1(x)\n",
    "        x = self.layer2(x)\n",
    "        x = self.layer3(x)\n",
    "        x = x.view(x.size(0), -1)\n",
    "        x = self.fc1(x)\n",
    "        x = self.fc2(x)\n",
    "        x = self.fc3(x)\n",
    "        return x\n",
    "\n",
    "model = Net()\n",
    "print(model)"
   ],
   "metadata": {
    "collapsed": false,
    "pycharm": {
     "name": "#%%\n"
    }
   }
  },
  {
   "cell_type": "code",
   "execution_count": null,
   "outputs": [],
   "source": [
    "device = torch.device('cuda' if torch.cuda.is_available() else 'cpu')\n",
    "print(device)\n",
    "model.to(device=device)"
   ],
   "metadata": {
    "collapsed": false,
    "pycharm": {
     "name": "#%%\n"
    }
   }
  },
  {
   "cell_type": "code",
   "execution_count": null,
   "outputs": [],
   "source": [
    "dataset = pd.read_csv('driver_imgs_list.csv')\n",
    "import os\n",
    "from IPython.display import display, Image\n",
    "import matplotlib.image as mpimg\n",
    "\n",
    "activity_map = {'c0': 'Safe driving',\n",
    "                'c1': 'Texting - right',\n",
    "                'c2': 'Talking on the phone - right',\n",
    "                'c3': 'Texting - left',\n",
    "                'c4': 'Talking on the phone - left',\n",
    "                'c5': 'Operating the radio',\n",
    "                'c6': 'Drinking',\n",
    "                'c7': 'Reaching behind',\n",
    "                'c8': 'Hair and makeup',\n",
    "                'c9': 'Talking to passenger'}\n",
    "\n",
    "plt.figure(figsize = (12, 20))\n",
    "image_count = 1\n",
    "BASE_URL = 'imgs/train/'\n",
    "for directory in os.listdir(BASE_URL):\n",
    "    if directory[0] != '.':\n",
    "        for i, file in enumerate(os.listdir(BASE_URL + directory)):\n",
    "            if i == 1:\n",
    "                break\n",
    "            else:\n",
    "                fig = plt.subplot(5, 2, image_count)\n",
    "                image_count += 1\n",
    "                image = mpimg.imread(BASE_URL + directory + '/' + file)\n",
    "                plt.imshow(image)\n",
    "                plt.title(activity_map[directory])"
   ],
   "metadata": {
    "collapsed": false,
    "pycharm": {
     "name": "#%%\n"
    }
   }
  },
  {
   "cell_type": "code",
   "execution_count": null,
   "outputs": [],
   "source": [
    "import train_loader\n",
    "from torch.utils.data import DataLoader\n",
    "\n",
    "train_data = train_loader.TrainDataset('imgs/train/', train=True)\n",
    "train_dataloader = DataLoader(dataset=train_data,shuffle=True, batch_size=32, num_workers=4)\n",
    "\n",
    "vali_data = train_loader.TrainDataset('imgs/train/', train=False)\n",
    "vali_dataloader = DataLoader(dataset=vali_data, shuffle=False, batch_size=32, num_workers=4)\n",
    "\n",
    "criterion = nn.CrossEntropyLoss()\n",
    "optimizer = optim.Adam(model.parameters(), lr=0.0001)\n",
    "\n"
   ],
   "metadata": {
    "collapsed": false,
    "pycharm": {
     "name": "#%%\n"
    }
   }
  },
  {
   "cell_type": "code",
   "execution_count": null,
   "outputs": [],
   "source": [
    "def val(model, dataloader):\n",
    "    model.eval()\n",
    "    correct, total, test_loss = 0, 0, 0\n",
    "    with torch.no_grad():\n",
    "        for images, labels in dataloader:\n",
    "            images = images.to(device)\n",
    "            labels = labels.to(device)\n",
    "            output = model(images)\n",
    "\n",
    "            # Checking answer\n",
    "            _, predicted = torch.max(output.data, 1)\n",
    "            total += labels.size(0)\n",
    "            correct += (predicted == labels).sum().item()\n",
    "\n",
    "            test_loss += criterion(output, labels).item()\n",
    "\n",
    "    model.train()\n",
    "    print('Images Tested =', total)\n",
    "    print('Accuracy = {:.2f}%\\n'.format(100. * correct / total))\n",
    "    return 100. * correct / total"
   ],
   "metadata": {
    "collapsed": false,
    "pycharm": {
     "name": "#%%\n"
    }
   }
  },
  {
   "cell_type": "code",
   "execution_count": null,
   "outputs": [],
   "source": [
    "import time\n",
    "num_epochs = 100\n",
    "\n",
    "\n",
    "for epoch in range(1, num_epochs + 1):\n",
    "        st = time.time()\n",
    "        running_loss = 0.0\n",
    "        for idx, (images, labels) in enumerate(train_dataloader):\n",
    "            images = images.to(device)\n",
    "            labels = labels.to(device)\n",
    "            # Clear gradients\n",
    "            optimizer.zero_grad()\n",
    "            # Get loss\n",
    "            output = model(images)\n",
    "            loss = criterion(output, labels)\n",
    "            # Forward, back, optimize\n",
    "            loss.backward()\n",
    "            optimizer.step()\n",
    "            running_loss += loss.item()\n",
    "\n",
    "            # append data every 10 mini-batches, print every 100 mini-batches\n",
    "            if idx % 100 == 0:\n",
    "                print('Epoch {} -> [{}/{} ({:.0f}%)] Loss: {:.6}'.format(\n",
    "                    epoch, idx * len(images.to(device)),\n",
    "                    len(train_dataloader.dataset),\n",
    "                    100. * idx / len(train_dataloader),\n",
    "                    running_loss / len(train_dataloader)))\n",
    "                running_loss = 0.0\n",
    "\n",
    "        else:\n",
    "            print(\"epoch time : %f s\" % (time.time()-st))\n",
    "            accuracy = val(model, vali_dataloader)\n",
    "            trained_model_path = './trained_models/watchdog/'\n",
    "            if epoch % 5 == 0:\n",
    "                if not os.path.isdir(trained_model_path):\n",
    "                    os.makedirs(trained_model_path)\n",
    "                torch.save(model, trained_model_path + '%d'%epoch + '_' + '%f'%accuracy + '.pkl')\n"
   ],
   "metadata": {
    "collapsed": false,
    "pycharm": {
     "name": "#%%\n"
    }
   }
  },
  {
   "cell_type": "code",
   "execution_count": null,
   "outputs": [],
   "source": [
    "torch.save(model.state_dict(), './model.pth')\n"
   ],
   "metadata": {
    "collapsed": false,
    "pycharm": {
     "name": "#%%\n"
    }
   }
  }
 ],
 "metadata": {
  "kernelspec": {
   "display_name": "Python 3",
   "language": "python",
   "name": "python3"
  },
  "language_info": {
   "codemirror_mode": {
    "name": "ipython",
    "version": 2
   },
   "file_extension": ".py",
   "mimetype": "text/x-python",
   "name": "python",
   "nbconvert_exporter": "python",
   "pygments_lexer": "ipython2",
   "version": "2.7.6"
  }
 },
 "nbformat": 4,
 "nbformat_minor": 0
}